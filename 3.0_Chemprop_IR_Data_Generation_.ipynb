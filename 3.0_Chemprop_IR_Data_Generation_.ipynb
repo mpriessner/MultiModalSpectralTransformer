{
 "cells": [
  {
   "cell_type": "markdown",
   "id": "42fcdc77-26c3-41c9-b362-681299a981eb",
   "metadata": {},
   "source": [
    "# Chemprop-IR Data generation"
   ]
  },
  {
   "cell_type": "code",
   "execution_count": null,
   "id": "8bc4207a-fa71-40dc-9eed-71c036fd0112",
   "metadata": {},
   "outputs": [],
   "source": [
    "\n",
    "import sys\n",
    "sys.path.append(\"/projects/cc/knlr326/2_git_repos/chemprop-IR\")\n",
    "from argparse import Namespace\n",
    "import csv\n",
    "from typing import List, Optional\n",
    "import os\n",
    "\n",
    "import numpy as np\n",
    "import torch\n",
    "from tqdm import tqdm\n",
    "\n"
   ]
  },
  {
   "cell_type": "code",
   "execution_count": null,
   "id": "48ac4f47-30fe-4009-8d7e-f49f4ffa4dc2",
   "metadata": {
    "tags": []
   },
   "outputs": [],
   "source": [
    "from chemprop.train.predict import predict\n",
    "from chemprop.data import MoleculeDataset\n",
    "from chemprop.data.utils import get_data, get_data_from_smiles\n",
    "from chemprop.utils import load_args, load_checkpoint, load_scalers\n",
    "from chemprop.train.spectral_loss import roundrobin_sid\n",
    "from chemprop.features import get_available_features_generators\n",
    "get_available_features_generators()"
   ]
  },
  {
   "cell_type": "code",
   "execution_count": null,
   "id": "bb1cdaec-298a-4282-b8a6-798f7a604b66",
   "metadata": {},
   "outputs": [],
   "source": [
    "config_dict = {\n",
    "    \"gpu\": list(range(torch.cuda.device_count())),  # Default value is None, should be one of the available GPU indices\n",
    "    \"test_path\": [\"/projects/cc/knlr326/2_git_repos/chemprop-IR/ir_models_data/solvation_example/solvation_spectra.csv\"],  # Default value is None\n",
    "    \"use_compound_names\": [False],  # Default is False\n",
    "    \"preds_path\": [\"/projects/cc/knlr326/2_git_repos/chemprop-IR/ir_models_data/ir_preds_test_2.csv\"],  # Default value is None\n",
    "    #\"checkpoint_dir\": [\"/projects/cc/knlr326/2_git_repos/chemprop-IR/ir_models_data/computed_model/model_files\"],  # Default value is None\n",
    "    \"checkpoint_dir\": [\"/projects/cc/knlr326/2_git_repos/chemprop-IR/ir_models_data/experiment_model/model_files\"],  # Default value is None\n",
    "    \"spectra_type\": [\"experimental\"],  # [\"experimental\", \"simulated\"] Default value is None\n",
    "    \"spectra_type_nr\": [0],  # 0-4 Default value is None\n",
    "    \n",
    "    \"checkpoint_path\": [None],  # Default value is None\n",
    "    \"batch_size\": [50],  # Default is 50\n",
    "    \"no_cuda\": [[False]],  # Default is False\n",
    "    \"features_generator\":[None],  # Default value is None, should be one of the available features generators\n",
    "    \"features_path\": [None],  # Default value is None\n",
    "    #\"features_path\": [[\"/projects/cc/knlr326/2_git_repos/chemprop-IR/ir_models_data/solvation_example/solvation_phases.csv\" ]],  # Default value is None\n",
    "    \"max_data_size\": [100],  # Default value is None\n",
    "    \"ensemble_variance\": [False],  # Default is False\n",
    "    \"ensemble_variance_conv\": [0.0],  # Default is 0.0\n",
    "    #\"dataset_type\":[\"spectra\"]\n",
    "}\n",
    "\n",
    "from argparse import Namespace\n",
    "\n",
    "def parse_arguments(hyperparameters):\n",
    "    parsed_args = {key: val[0] for key, val in hyperparameters.items()}\n",
    "    return Namespace(**parsed_args)\n",
    "\n",
    "args = parse_arguments(config_dict)"
   ]
  },
  {
   "cell_type": "code",
   "execution_count": null,
   "id": "79796fab-aefe-417e-9c22-98ce7e0785c4",
   "metadata": {
    "tags": []
   },
   "outputs": [],
   "source": [
    "from chemprop.train import make_predictions\n",
    "from chemprop.parsing import modify_predict_args\n",
    "\n",
    "modify_predict_args(args)"
   ]
  },
  {
   "cell_type": "markdown",
   "id": "4b6456c2-83b3-4feb-a6a8-a65bac55c063",
   "metadata": {},
   "source": [
    "### Simulate IR for big ZINC dataset"
   ]
  },
  {
   "cell_type": "code",
   "execution_count": null,
   "id": "2c5a68eb-1961-4eff-b05a-1486b01e6520",
   "metadata": {},
   "outputs": [],
   "source": [
    "\n",
    "import sys\n",
    "sys.path.append(\"/projects/cc/knlr326/2_git_repos/chemprop-IR\")\n",
    "from argparse import Namespace\n",
    "import csv\n",
    "from typing import List, Optional\n",
    "import os\n",
    "\n",
    "import numpy as np\n",
    "import torch\n",
    "from tqdm import tqdm\n",
    "\n",
    "\n",
    "from chemprop.train.predict import predict\n",
    "from chemprop.data import MoleculeDataset\n",
    "from chemprop.data.utils import get_data, get_data_from_smiles\n",
    "from chemprop.utils import load_args, load_checkpoint, load_scalers\n",
    "from chemprop.train.spectral_loss import roundrobin_sid\n",
    "from chemprop.features import get_available_features_generators\n",
    "get_available_features_generators()\n",
    "\n",
    "\n",
    "from chemprop.train import make_predictions\n",
    "from chemprop.parsing import modify_predict_args\n",
    "import os\n",
    "import pandas as pd\n",
    "from rdkit import Chem\n",
    "from argparse import Namespace\n"
   ]
  },
  {
   "cell_type": "code",
   "execution_count": null,
   "id": "899c4a3d-d598-4ba6-aff0-fa50878b8878",
   "metadata": {},
   "outputs": [],
   "source": [
    "config_dict = {\n",
    "    \"gpu\": list(range(torch.cuda.device_count())),  # Default value is None, should be one of the available GPU indices\n",
    "    \"test_path\": [\"/projects/cc/knlr326/1_NMR_project/2_Notebooks/MultiModalSpectralTransformer/chemprop-IR/ir_models_data/solvation_example/solvation_spectra.csv\"],  # Default value is None\n",
    "    \"use_compound_names\": [False],  # Default is False\n",
    "    \"preds_path\": [\"/projects/cc/knlr326/1_NMR_project/2_Notebooks/MultiModalSpectralTransformer/chemprop-IR/ir_models_data/ir_preds_test_2.csv\"],  # Default value is None\n",
    "    #\"checkpoint_dir\": [\"/projects/cc/knlr326/2_git_repos/chemprop-IR/ir_models_data/computed_model/model_files\"],  # Default value is None\n",
    "    \"checkpoint_dir\": [\"/projects/cc/knlr326/1_NMR_project/2_Notebooks/MultiModalSpectralTransformer/chemprop-IR/ir_models_data/experiment_model/model_files\"],  # Default value is None\n",
    "    \"spectra_type\": [\"experimental\"],  # [\"experimental\", \"simulated\"] Default value is None\n",
    "    \"spectra_type_nr\": [0],  # 0-4 Default value is None\n",
    "    \n",
    "    \"checkpoint_path\": [None],  # Default value is None\n",
    "    \"batch_size\": [64],  # Default is 50\n",
    "    \"no_cuda\": [[False]],  # Default is False\n",
    "    \"features_generator\":[None],  # Default value is None, should be one of the available features generators\n",
    "    \"features_path\": [None],  # Default value is None\n",
    "    #\"features_path\": [[\"/projects/cc/knlr326/2_git_repos/chemprop-IR/ir_models_data/solvation_example/solvation_phases.csv\" ]],  # Default value is None\n",
    "    \"max_data_size\": [100],  # Default value is None\n",
    "    \"ensemble_variance\": [False],  # Default is False\n",
    "    \"ensemble_variance_conv\": [0.0],  # Default is 0.0\n",
    "    #\"dataset_type\":[\"spectra\"]\n",
    "}\n",
    "\n",
    "\n",
    "def parse_arguments(hyperparameters):\n",
    "    parsed_args = {key: val[0] for key, val in hyperparameters.items()}\n",
    "    return Namespace(**parsed_args)\n",
    "\n",
    "\n",
    "# Function to generate spectral data from smiles (dummy function for demonstration)\n",
    "def generate_spectral_data_batch(args, smiles):\n",
    "    avg_preds, predictions_df = make_predictions(args, smiles=smiles_list)\n",
    "    # TODO: Implement the neural network-based spectral data generation\n",
    "    return avg_preds\n",
    "\n",
    "def calculate_molecular_formulas(smiles_list: list) -> list:\n",
    "    formulas = []\n",
    "    for smiles in smiles_list:\n",
    "        molecule = Chem.MolFromSmiles(smiles)\n",
    "        formula = Chem.rdMolDescriptors.CalcMolFormula(molecule)\n",
    "        formulas.append(formula)\n",
    "    return formulas\n",
    "\n",
    "args = parse_arguments(config_dict)\n",
    "modify_predict_args(args)"
   ]
  },
  {
   "cell_type": "code",
   "execution_count": null,
   "id": "d6731ebe-5fde-46ba-9b6a-1a26d42b6c89",
   "metadata": {
    "tags": []
   },
   "outputs": [],
   "source": [
    "\n",
    "df = pd.read_csv(\"/projects/cc/knlr326/1_NMR_project/1_NMR_data_AZ/15_ZINC270M/ML_NMR_5M_XL_1H.csv\")\n",
    "\n",
    "# Create a directory to save the spectral data files\n",
    "output_directory = \"/projects/cc/knlr326/1_NMR_project/1_NMR_data_AZ/15_ZINC270M/IR_spectra_NN_\"\n",
    "if not os.path.exists(output_directory):\n",
    "    os.makedirs(output_directory)\n",
    "\n",
    "molecular_formulas = []\n",
    "smiles_list = []\n",
    "sample_id_list = []\n",
    "\n",
    "batch_size = 64\n",
    "\n",
    "# Step 2 and 3: Process in batches of 64\n",
    "for i in tqdm(range(0, len(df), batch_size)):\n",
    "    batch = df.iloc[i:i+batch_size]\n",
    "    smiles_list = batch['SMILES'].tolist()\n",
    "    sample_ids = batch['sample-id'].tolist()\n",
    "    \n",
    "    # Generate spectral data for the batch\n",
    "    spectral_data_batch = generate_spectral_data_batch(args, smiles_list)\n",
    "    \n",
    "    \n",
    "    # Save spectral data for each sample in the batch\n",
    "    for j, spectral_data in enumerate(spectral_data_batch):\n",
    "        output_file_path = os.path.join(output_directory, f\"{sample_ids[j]}.csv\")\n",
    "        pd.DataFrame({'spectra': spectral_data}).to_csv(output_file_path, index=False)\n",
    "\n",
    "        \n",
    "    # Step 5: Calculate molecular formula and append to list\n",
    "    formula = calculate_molecular_formulas(smiles_list)\n",
    "    molecular_formulas.extend(formula)\n",
    "    smiles_list.extend(smiles_list)\n",
    "    sample_id_list.extend(sample_ids)\n",
    "\n",
    "    \n",
    "    "
   ]
  },
  {
   "cell_type": "code",
   "execution_count": null,
   "id": "dfb364e8-dda8-44ab-9d85-8ba53191b302",
   "metadata": {},
   "outputs": [],
   "source": [
    "# Save the accumulated data into a DataFrame\n",
    "results_df = pd.DataFrame({\n",
    "    'SMILES': smiles_list,\n",
    "    'sample-id': sample_id_list,\n",
    "    'formula': molecular_formulas\n",
    "})\n",
    "\n",
    "        \n",
    "# Step 6: Save the updated DataFrame to a new CSV file\n",
    "new_csv_path = \"/projects/cc/knlr326/1_NMR_project/1_NMR_data_AZ/15_ZINC270M/ML_NMR_5M_XL_IR_MF_.csv\"\n",
    "\n",
    "df.to_csv(new_csv_path, index=False)\n"
   ]
  },
  {
   "cell_type": "code",
   "execution_count": null,
   "id": "e64b3101-6856-4924-a8e9-8661d37befdf",
   "metadata": {},
   "outputs": [],
   "source": [
    "import os\n",
    "output_directory = \"/projects/cc/knlr326/1_NMR_project/1_NMR_data_AZ/15_ZINC270M/IR_spectra_NN4\"\n",
    "len(os.listdir(output_directory))"
   ]
  },
  {
   "cell_type": "code",
   "execution_count": null,
   "id": "01a0e43d-34cd-4c7e-8e07-1356b9412aa6",
   "metadata": {},
   "outputs": [],
   "source": [
    "MultimodalTransformer"
   ]
  },
  {
   "cell_type": "code",
   "execution_count": null,
   "id": "08131e0d-4b5e-40fd-9fe0-a86eab0b607d",
   "metadata": {},
   "outputs": [],
   "source": []
  },
  {
   "cell_type": "code",
   "execution_count": null,
   "id": "5ead40f7-5eae-427f-a2a0-412f34c4b885",
   "metadata": {},
   "outputs": [],
   "source": []
  },
  {
   "cell_type": "code",
   "execution_count": null,
   "id": "dec3a7b0-32b8-45aa-8539-cb084a05857c",
   "metadata": {},
   "outputs": [],
   "source": []
  },
  {
   "cell_type": "code",
   "execution_count": null,
   "id": "6a237fb6-67f3-44fc-a54c-cea2e0526ff5",
   "metadata": {},
   "outputs": [],
   "source": []
  },
  {
   "cell_type": "code",
   "execution_count": null,
   "id": "47e4efe7-4bd8-488c-924d-3972b8bff44b",
   "metadata": {},
   "outputs": [],
   "source": []
  }
 ],
 "metadata": {
  "kernelspec": {
   "display_name": "Python [conda env:nmr_project_37_master_v2]",
   "language": "python",
   "name": "conda-env-nmr_project_37_master_v2-py"
  },
  "language_info": {
   "codemirror_mode": {
    "name": "ipython",
    "version": 3
   },
   "file_extension": ".py",
   "mimetype": "text/x-python",
   "name": "python",
   "nbconvert_exporter": "python",
   "pygments_lexer": "ipython3",
   "version": "3.7.6"
  }
 },
 "nbformat": 4,
 "nbformat_minor": 5
}
